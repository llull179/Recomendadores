{
 "cells": [
  {
   "cell_type": "code",
   "execution_count": null,
   "metadata": {},
   "outputs": [],
   "source": [
    "import pandas as pd\n",
    "import numpy as np\n",
    "\n",
    "train = pd.read_csv('./data/train.csv')\n",
    "test = pd.read_csv('./data/test.csv')"
   ]
  },
  {
   "cell_type": "markdown",
   "metadata": {},
   "source": [
    "## Mean rating - 1.509"
   ]
  },
  {
   "cell_type": "code",
   "execution_count": null,
   "metadata": {},
   "outputs": [],
   "source": [
    "submition = pd.DataFrame()\n",
    "submition['rating'] = train['rating'].mean() * np.ones(test.shape[0])\n",
    "submition['ID'] = test['ID']\n",
    "submition.to_csv('./data/submission.csv', index=False)"
   ]
  },
  {
   "cell_type": "markdown",
   "metadata": {},
   "source": [
    "## Mean by users - 1.309"
   ]
  },
  {
   "cell_type": "code",
   "execution_count": null,
   "metadata": {},
   "outputs": [],
   "source": [
    "mean_train = train.rating.mean()\n",
    "def predictByMeanUser(x):\n",
    "    if train[train.user == x].shape[0] > 0:\n",
    "        return train[train.user == x].rating.mean()\n",
    "    else:\n",
    "        return mean_train\n",
    "submition['rating'] = test.user.apply(predictByMeanUser)\n",
    "submition.to_csv('./data/submission.csv', index=False)"
   ]
  },
  {
   "cell_type": "markdown",
   "metadata": {},
   "source": [
    "## Mean by book - 1.309"
   ]
  },
  {
   "cell_type": "code",
   "execution_count": null,
   "metadata": {},
   "outputs": [],
   "source": [
    "submition = pd.DataFrame()\n",
    "submition['ID'] = test['ID']\n",
    "\n",
    "mean_train = train.rating.mean()\n",
    "def predictByMeanBook(x):\n",
    "    if train[train.item == x].shape[0] > 0:\n",
    "        return train[train.item == x].rating.mean()\n",
    "    else:\n",
    "        return mean_train\n",
    "submition['rating'] = test.item.apply(predictByMeanBook)\n",
    "\n",
    "submition.to_csv('./data/submission_meanbook.csv', index=False)"
   ]
  },
  {
   "cell_type": "markdown",
   "metadata": {},
   "source": [
    "## Agg Mean  - 1.547"
   ]
  },
  {
   "cell_type": "code",
   "execution_count": null,
   "metadata": {},
   "outputs": [],
   "source": [
    "submition = pd.DataFrame()\n",
    "submition['ID'] = test['ID']\n",
    "\n",
    "mean_train = train.rating.mean()\n",
    "def predictPonderedMean(x):\n",
    "    if train[train.item == x].shape[0] > 0:\n",
    "        book_mean =  train[train.item == x].rating.mean()\n",
    "    else:\n",
    "        book_mean = mean_train\n",
    "    if train[train.user == x].shape[0] > 0:\n",
    "        user_mean =  train[train.user == x].rating.mean()\n",
    "    else:\n",
    "        user_mean =  mean_train\n",
    "\n",
    "    return 0.4 * book_mean + 0.4 * user_mean + 0.2 * mean_train\n",
    "submition['rating'] = test.item.apply(predictByMeanBook)\n",
    "\n",
    "submition.to_csv('./data/submission_pondered_mean.csv', index=False)"
   ]
  }
 ],
 "metadata": {
  "kernelspec": {
   "display_name": "Master",
   "language": "python",
   "name": "python3"
  },
  "language_info": {
   "codemirror_mode": {
    "name": "ipython",
    "version": 3
   },
   "file_extension": ".py",
   "mimetype": "text/x-python",
   "name": "python",
   "nbconvert_exporter": "python",
   "pygments_lexer": "ipython3",
   "version": "3.11.11"
  }
 },
 "nbformat": 4,
 "nbformat_minor": 2
}
