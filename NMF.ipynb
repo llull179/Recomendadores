{
 "cells": [
  {
   "cell_type": "markdown",
   "metadata": {},
   "source": [
    "IMPLEMENTACION SKLEARN"
   ]
  },
  {
   "cell_type": "code",
   "execution_count": 8,
   "metadata": {},
   "outputs": [],
   "source": [
    "import pandas as pd\n",
    "import numpy as np\n",
    "from scipy.sparse import csr_matrix\n",
    "\n",
    "RANDOM_STATE = 42\n",
    "TRAIN_PERCENTAGE = 0.8\n",
    "NUMBER_COMPONENTS = 20\n",
    "train = pd.read_csv('./data/train.csv')\n",
    "test = pd.read_csv('./data/test.csv')"
   ]
  },
  {
   "cell_type": "markdown",
   "metadata": {},
   "source": [
    "TRANSFORMAMOS LOS DATOS A UNA MATRIZ DISPERSA"
   ]
  },
  {
   "cell_type": "code",
   "execution_count": 9,
   "metadata": {},
   "outputs": [],
   "source": [
    "# Find the number of users and items\n",
    "num_users = max(train[\"user\"].max(), test[\"user\"].max()) + 1\n",
    "num_items = max(train[\"item\"].max(), test[\"item\"].max()) + 1\n",
    "\n",
    "# Convert to CSR sparse matrices\n",
    "train_sparse = csr_matrix((train[\"rating\"], (train[\"user\"], train[\"item\"])), shape=(num_users, num_items))"
   ]
  },
  {
   "cell_type": "markdown",
   "metadata": {},
   "source": [
    "Entrenamiento"
   ]
  },
  {
   "cell_type": "code",
   "execution_count": 10,
   "metadata": {},
   "outputs": [
    {
     "name": "stdout",
     "output_type": "stream",
     "text": [
      "Reconstruction Error: 4708.831741838203\n"
     ]
    }
   ],
   "source": [
    "import numpy as np\n",
    "from sklearn.decomposition import NMF\n",
    "model = NMF(n_components=NUMBER_COMPONENTS, init='random', random_state=42)\n",
    "W = model.fit_transform(train_sparse)\n",
    "H = model.components_\n",
    "\n",
    "print(\"Reconstruction Error:\", model.reconstruction_err_)\n"
   ]
  },
  {
   "cell_type": "markdown",
   "metadata": {},
   "source": [
    "Realizamos las predicciones"
   ]
  },
  {
   "cell_type": "code",
   "execution_count": 17,
   "metadata": {},
   "outputs": [
    {
     "name": "stdout",
     "output_type": "stream",
     "text": [
      "Predicted value for user 1 and item 0: 0.0000\n"
     ]
    }
   ],
   "source": [
    "def predict_value(user, item, W, H):\n",
    "    \"\"\" Predict missing value for a given user-item pair \"\"\"\n",
    "    if user >= W.shape[0] or item >= H.shape[1]:\n",
    "        print(f\"Usuario con id {user} o item con id {item} no encontrado\")\n",
    "        return None  # User or item not in training set\n",
    "\n",
    "    return np.dot(W[user, :], H[:, item])\n",
    "\n",
    "# Example: Predict value for user 1 and item 0\n",
    "predicted_value = predict_value(300, 10, W, H)\n",
    "print(f\"Predicted value for user 1 and item 0: {predicted_value:.4f}\")"
   ]
  },
  {
   "cell_type": "markdown",
   "metadata": {},
   "source": [
    "Generamos el test"
   ]
  },
  {
   "cell_type": "code",
   "execution_count": 20,
   "metadata": {},
   "outputs": [
    {
     "name": "stderr",
     "output_type": "stream",
     "text": [
      "C:\\Users\\pable\\AppData\\Local\\Temp\\ipykernel_12472\\2275328389.py:6: FutureWarning: The behavior of DataFrame concatenation with empty or all-NA entries is deprecated. In a future version, this will no longer exclude empty or all-NA columns when determining the result dtypes. To retain the old behavior, exclude the relevant entries before the concat operation.\n",
      "  submition = pd.concat([submition, new_row], ignore_index=True)\n"
     ]
    }
   ],
   "source": [
    "submition = pd.DataFrame(columns=['ID', 'rating'])\n",
    "# Iterate row by row\n",
    "for index, row in test.iterrows():\n",
    "    predicted_value = predict_value(row['user'], row['item'], W, H)\n",
    "    new_row = pd.DataFrame([{'ID': row['ID'], 'rating': predicted_value}])\n",
    "    submition = pd.concat([submition, new_row], ignore_index=True)\n",
    "    \n",
    "submition.to_csv('./data/submission_NMF.csv', index=False)"
   ]
  },
  {
   "cell_type": "code",
   "execution_count": null,
   "metadata": {},
   "outputs": [],
   "source": []
  }
 ],
 "metadata": {
  "kernelspec": {
   "display_name": "main_env",
   "language": "python",
   "name": "python3"
  },
  "language_info": {
   "codemirror_mode": {
    "name": "ipython",
    "version": 3
   },
   "file_extension": ".py",
   "mimetype": "text/x-python",
   "name": "python",
   "nbconvert_exporter": "python",
   "pygments_lexer": "ipython3",
   "version": "3.12.4"
  }
 },
 "nbformat": 4,
 "nbformat_minor": 2
}
